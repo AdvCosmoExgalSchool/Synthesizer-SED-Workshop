{
 "cells": [
  {
   "cell_type": "markdown",
   "metadata": {},
   "source": [
    "# Parametric Performance"
   ]
  },
  {
   "cell_type": "markdown",
   "metadata": {},
   "source": [
    "---\n",
    "In the first notebook you learnt how to use Bagpipes and found you had to adjust the fit instructions to get an accurate result. You then learnt how to use Synthesizer to create synthetic photometry which can be used to infer the properties of simulated galaxies in the same way. You likely found that the values recovered were not always accurate. This suggests that Bagpipes can be quite unreliable, but this is an issue suspected to be shared by many SED fitting codes. For this reason, some of JWST's most interesting results regarding the overabundance and large masses of high-redshift galaxies have been heavily scrutinised.\n",
    "\n",
    "You already know how to use Synthesizer in particle mode, but it can also generate parametric models, giving you control over every element of your galaxy. We will use this to investigate the optimal performance and breaking points of Bagpipes.\n",
    "\n",
    "You're on your own for this one, but I've imported some of the things you might need. You can also refer to the [Bagpipes](https://bagpipes.readthedocs.io/en/latest/) and [Synthesizer](https://flaresimulations.github.io/synthesizer/) documentation.\n",
    "\n",
    "---"
   ]
  },
  {
   "cell_type": "code",
   "execution_count": 1,
   "metadata": {},
   "outputs": [
    {
     "name": "stdout",
     "output_type": "stream",
     "text": [
      "Bagpipes: Latex distribution not found, plots may look strange.\n"
     ]
    }
   ],
   "source": [
    "import numpy as np\n",
    "import matplotlib.pyplot as plt\n",
    "from astropy.cosmology import Planck18 as cosmo\n",
    "\n",
    "from unyt import Gyr, Myr, K\n",
    "\n",
    "from synthesizer.filters import FilterCollection\n",
    "from synthesizer.grid import Grid\n",
    "from synthesizer.emission_models import PacmanEmission\n",
    "from synthesizer.emission_models.attenuation import Calzetti2000\n",
    "from synthesizer.emission_models.attenuation.igm import Inoue14\n",
    "\n",
    "from synthesizer.parametric import SFH, Stars, ZDist\n",
    "from synthesizer.parametric.galaxy import Galaxy\n",
    "from synthesizer.emission_models.dust.emission import Greybody\n",
    "\n",
    "import bagpipes as pipes\n",
    "# Change this to 'nautilus' if required.\n",
    "sampler = 'multinest'    \n",
    "import corner"
   ]
  },
  {
   "cell_type": "markdown",
   "metadata": {},
   "source": [
    "__Task:__ Investigate the optimal performance of Bagpipes.\n",
    "\n",
    "Construct a very simple parametric galaxy using\n",
    "\n",
    "- a BC03 SPS model grid\n",
    "\n",
    "- a constant SFH\n",
    "- constant metallicity\n",
    "- dust attenuation and emision\n",
    "\n",
    "and select the other parameters as you see fit. Calculate the flux you would observe from this galaxy in the JWST filters after adding noise. Fit this photometry using a model with matching component choices and fixed redshift. How well are the physical properties recovered in this ideal scenario?"
   ]
  },
  {
   "cell_type": "code",
   "execution_count": null,
   "metadata": {},
   "outputs": [],
   "source": []
  },
  {
   "cell_type": "markdown",
   "metadata": {},
   "source": [
    "__Task:__ How does the performance change when the redshift is a free parameter?"
   ]
  },
  {
   "cell_type": "code",
   "execution_count": null,
   "metadata": {},
   "outputs": [],
   "source": []
  },
  {
   "cell_type": "markdown",
   "metadata": {},
   "source": [
    "__Task:__ Which modelling choice is the most important?\n",
    "\n",
    "Try fitting with model components that differ from the true parameterisation. Which modelling choices change the inferred properties the most? You can also try generating a galaxy with a different SPS model.\n",
    "\n",
    "Which parameter is most reliably recovered?"
   ]
  },
  {
   "cell_type": "code",
   "execution_count": null,
   "metadata": {},
   "outputs": [],
   "source": []
  },
  {
   "cell_type": "markdown",
   "metadata": {},
   "source": [
    "You've finished the Synthesizer-SED workshop! You now know how to run a forward modelling pipeline with Synthesizer and fit photometry with Bagpipes! However, you should also be aware of the potential risks and uncertainties involved with SED fitting."
   ]
  }
 ],
 "metadata": {
  "kernelspec": {
   "display_name": "ACES",
   "language": "python",
   "name": "python3"
  },
  "language_info": {
   "codemirror_mode": {
    "name": "ipython",
    "version": 3
   },
   "file_extension": ".py",
   "mimetype": "text/x-python",
   "name": "python",
   "nbconvert_exporter": "python",
   "pygments_lexer": "ipython3",
   "version": "3.10.12"
  }
 },
 "nbformat": 4,
 "nbformat_minor": 2
}
