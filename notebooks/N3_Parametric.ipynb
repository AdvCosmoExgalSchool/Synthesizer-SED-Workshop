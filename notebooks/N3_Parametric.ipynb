{
 "cells": [
  {
   "cell_type": "markdown",
   "metadata": {},
   "source": [
    "# ACES-3: Bagpipes Performance"
   ]
  },
  {
   "cell_type": "markdown",
   "metadata": {},
   "source": [
    "---\n",
    "\n",
    "You now know how to forward model a simulation using Synthesizer and perform SED fits with Bagpipes. You have likely found that the infered physical properties can be quite unreliable which is an issue shared by many SED fitting codes. This has lead to heavy scrutiny of some of JWST's most interesting results regarding the overabundance and large masses of high-redshift galaxies.\n",
    "\n",
    "In the previous notebook you used Synthesizer in particle mode, but it can also generate parametric models, giving you control over every element of your galaxy. We will use this to investigate the optimal performance and breaking points of Bagpipes.\n",
    "\n",
    "Your're on your own for this one, but I've imported some of the things you might need. You can also refer to the [Bagpipes](https://bagpipes.readthedocs.io/en/latest/) and [Synthesizer](https://flaresimulations.github.io/synthesizer/) documentaion.\n",
    "\n",
    "---"
   ]
  },
  {
   "cell_type": "code",
   "execution_count": 1,
   "metadata": {},
   "outputs": [
    {
     "name": "stdout",
     "output_type": "stream",
     "text": [
      "Bagpipes: Latex distribution not found, plots may look strange.\n"
     ]
    }
   ],
   "source": [
    "import numpy as np\n",
    "import matplotlib.pyplot as plt\n",
    "from astropy.cosmology import Planck18 as cosmo\n",
    "\n",
    "from unyt import Gyr, Myr, K\n",
    "\n",
    "from synthesizer.filters import FilterCollection\n",
    "from synthesizer.grid import Grid\n",
    "from synthesizer.emission_models import PacmanEmission\n",
    "from synthesizer.emission_models.attenuation import Calzetti2000\n",
    "from synthesizer.emission_models.attenuation.igm import Inoue14\n",
    "\n",
    "from synthesizer.parametric import SFH, Stars, ZDist\n",
    "from synthesizer.parametric.galaxy import Galaxy\n",
    "from synthesizer.emission_models.dust.emission import Greybody\n",
    "\n",
    "import bagpipes as pipes\n",
    "# Change this to 'nautilus' if required.\n",
    "sampler = 'multinest'    \n",
    "import corner"
   ]
  },
  {
   "cell_type": "markdown",
   "metadata": {},
   "source": [
    "__Task:__ Investigate the optimal performance of Bagpipes.\n",
    "\n",
    "Construct a very simple parametric galaxy using\n",
    "\n",
    "- a BC03 SPS model grid\n",
    "\n",
    "- a constant SFH\n",
    "- constant metallicity\n",
    "- dust attenuation and emision\n",
    "\n",
    "and select the other parameters as you see fit. \n",
    "\n",
    "Calculate the flux you would observe from this galaxy in the JWST filters after adding noise. Fit this photometry using a model with matching component choices and fixed redshift. How well are the physical properties recovered in this ideal scenario?"
   ]
  },
  {
   "cell_type": "markdown",
   "metadata": {},
   "source": [
    "__Task:__ How does the performance change when the redshift is a free parameter?"
   ]
  },
  {
   "cell_type": "code",
   "execution_count": null,
   "metadata": {},
   "outputs": [],
   "source": []
  },
  {
   "cell_type": "markdown",
   "metadata": {},
   "source": [
    "__Task:__ Which modelling choice is the most important?\n",
    "\n",
    "Try fitting with model components that differ from the true parameterisation or generating a new galaxy with differing components. Which modelling choices change the infered properties the most?"
   ]
  },
  {
   "cell_type": "code",
   "execution_count": null,
   "metadata": {},
   "outputs": [],
   "source": []
  }
 ],
 "metadata": {
  "kernelspec": {
   "display_name": "ACES",
   "language": "python",
   "name": "python3"
  },
  "language_info": {
   "codemirror_mode": {
    "name": "ipython",
    "version": 3
   },
   "file_extension": ".py",
   "mimetype": "text/x-python",
   "name": "python",
   "nbconvert_exporter": "python",
   "pygments_lexer": "ipython3",
   "version": "3.10.12"
  }
 },
 "nbformat": 4,
 "nbformat_minor": 2
}
